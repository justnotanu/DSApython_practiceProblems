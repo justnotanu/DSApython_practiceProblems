{
  "nbformat": 4,
  "nbformat_minor": 0,
  "metadata": {
    "colab": {
      "provenance": [],
      "authorship_tag": "ABX9TyPJ5ID08XAx6WZlw2en43ZW",
      "include_colab_link": true
    },
    "kernelspec": {
      "name": "python3",
      "display_name": "Python 3"
    },
    "language_info": {
      "name": "python"
    }
  },
  "cells": [
    {
      "cell_type": "markdown",
      "metadata": {
        "id": "view-in-github",
        "colab_type": "text"
      },
      "source": [
        "<a href=\"https://colab.research.google.com/github/justnotanu/projectpython/blob/main/number_guessing_game_project.ipynb\" target=\"_parent\"><img src=\"https://colab.research.google.com/assets/colab-badge.svg\" alt=\"Open In Colab\"/></a>"
      ]
    },
    {
      "cell_type": "code",
      "source": [
        "import random\n",
        "num = random.randint(1, 10)\n",
        "guess = int(input(\"Guess a number between 1 and 10: \"))\n",
        "\n",
        "while guess != num:\n",
        "    if guess < num:\n",
        "        print(\"Your guess is too low.\")\n",
        "        guess = int(input(\"Guess again: \"))\n",
        "    else:\n",
        "        print(\"Your guess is too high.\")\n",
        "        guess = int(input(\"Guess again: \"))\n",
        "\n",
        "print(\"You guessed it right!\")"
      ],
      "metadata": {
        "colab": {
          "base_uri": "https://localhost:8080/"
        },
        "id": "eizL3riLB7Rc",
        "outputId": "8cb8d79f-8900-4aa8-b4fa-a9137b112ce1"
      },
      "execution_count": 17,
      "outputs": [
        {
          "output_type": "stream",
          "name": "stdout",
          "text": [
            "Guess a number between 1 and 10: 8\n",
            "Your guess is too high.\n",
            "Guess again: 9\n",
            "Your guess is too high.\n",
            "Guess again: 3\n",
            "Your guess is too low.\n",
            "Guess again: 2\n",
            "Your guess is too low.\n",
            "Guess again: 5\n",
            "Your guess is too low.\n",
            "Guess again: 7\n",
            "You guessed it right!\n"
          ]
        }
      ]
    }
  ]
}