{
  "nbformat": 4,
  "nbformat_minor": 0,
  "metadata": {
    "colab": {
      "provenance": [],
      "authorship_tag": "ABX9TyOnhJEsssfcjN0DfUOcZWMt",
      "include_colab_link": true
    },
    "kernelspec": {
      "name": "python3",
      "display_name": "Python 3"
    },
    "language_info": {
      "name": "python"
    }
  },
  "cells": [
    {
      "cell_type": "markdown",
      "metadata": {
        "id": "view-in-github",
        "colab_type": "text"
      },
      "source": [
        "<a href=\"https://colab.research.google.com/github/justnotanu/projectpython/blob/main/DSA_python.ipynb\" target=\"_parent\"><img src=\"https://colab.research.google.com/assets/colab-badge.svg\" alt=\"Open In Colab\"/></a>"
      ]
    },
    {
      "cell_type": "code",
      "source": [],
      "metadata": {
        "id": "kT9y0TKsDM4a"
      },
      "execution_count": null,
      "outputs": []
    },
    {
      "cell_type": "markdown",
      "source": [
        "1# Given a number, N. Find the sum of all the digits of N.\n",
        "**#GFG**"
      ],
      "metadata": {
        "id": "K2H5VFLeza3k"
      }
    },
    {
      "cell_type": "code",
      "source": [
        "class Solution:\n",
        "    def sumOfDigits(self, N):\n",
        "        def getSum(n):\n",
        "            sum = 0\n",
        "            while (n != 0):\n",
        "                sum += int(n % 10)\n",
        "                n = int(n / 10)\n",
        "            return sum\n",
        "\n",
        "        return getSum(N)"
      ],
      "metadata": {
        "id": "dW5aPXyP5VXL"
      },
      "execution_count": 21,
      "outputs": []
    },
    {
      "cell_type": "markdown",
      "source": [
        "2# Given an integer num, repeatedly add all its digits until the result has only one digit, and return it.@leetcode\n",
        "\n",
        "\n",
        "\n"
      ],
      "metadata": {
        "id": "HsJSXc4C7Ii5"
      }
    },
    {
      "cell_type": "code",
      "source": [
        "class Solution:\n",
        "    def addDigits(self, num: int) -> int:\n",
        "        while num >= 10:\n",
        "            num = sum(int(digit) for digit in str(num))\n",
        "        return num"
      ],
      "metadata": {
        "id": "K8AjdOLQ7L5L"
      },
      "execution_count": 20,
      "outputs": []
    },
    {
      "cell_type": "markdown",
      "source": [
        "3# **An ugly number is a positive integer whose prime factors are limited to 2, 3, and 5.**Given an integer n, return true if n is an ugly number.#leetcode\n"
      ],
      "metadata": {
        "id": "l-B5tua1DNWb"
      }
    },
    {
      "cell_type": "code",
      "source": [
        "class Solution:\n",
        "    def isUgly(self, n: int) -> bool:\n",
        "        if n <= 0:\n",
        "            return False\n",
        "        if n == 1:\n",
        "            return True\n",
        "\n",
        "        for factor in [2, 3, 5]:\n",
        "            while n % factor == 0:\n",
        "                n //= factor\n",
        "\n",
        "        return n == 1"
      ],
      "metadata": {
        "id": "QinnIGhrDUqn"
      },
      "execution_count": 22,
      "outputs": []
    }
  ]
}