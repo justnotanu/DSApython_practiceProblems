{
  "nbformat": 4,
  "nbformat_minor": 0,
  "metadata": {
    "colab": {
      "provenance": [],
      "authorship_tag": "ABX9TyN54JEWj3Ih0EjXT+iOB4qK",
      "include_colab_link": true
    },
    "kernelspec": {
      "name": "python3",
      "display_name": "Python 3"
    },
    "language_info": {
      "name": "python"
    }
  },
  "cells": [
    {
      "cell_type": "markdown",
      "metadata": {
        "id": "view-in-github",
        "colab_type": "text"
      },
      "source": [
        "<a href=\"https://colab.research.google.com/github/justnotanu/DSApython_practiceProblems/blob/main/DSA_python.ipynb\" target=\"_parent\"><img src=\"https://colab.research.google.com/assets/colab-badge.svg\" alt=\"Open In Colab\"/></a>"
      ]
    },
    {
      "cell_type": "code",
      "source": [],
      "metadata": {
        "id": "kT9y0TKsDM4a"
      },
      "execution_count": null,
      "outputs": []
    },
    {
      "cell_type": "markdown",
      "source": [
        "1# Given a number, N. Find the sum of all the digits of N.\n",
        "**#GFG**"
      ],
      "metadata": {
        "id": "K2H5VFLeza3k"
      }
    },
    {
      "cell_type": "code",
      "source": [
        "class Solution:\n",
        "    def sumOfDigits(self, N):\n",
        "        def getSum(n):\n",
        "            sum = 0\n",
        "            while (n != 0):\n",
        "                sum += int(n % 10)\n",
        "                n = int(n / 10)\n",
        "            return sum\n",
        "\n",
        "        return getSum(N)"
      ],
      "metadata": {
        "id": "dW5aPXyP5VXL"
      },
      "execution_count": null,
      "outputs": []
    },
    {
      "cell_type": "markdown",
      "source": [
        "2# Given an integer num, repeatedly add all its digits until the result has only one digit, and return it.@leetcode\n",
        "\n",
        "\n",
        "\n"
      ],
      "metadata": {
        "id": "HsJSXc4C7Ii5"
      }
    },
    {
      "cell_type": "code",
      "source": [
        "class Solution:\n",
        "    def addDigits(self, num: int) -> int:\n",
        "        while num >= 10:\n",
        "            num = sum(int(digit) for digit in str(num))\n",
        "        return num"
      ],
      "metadata": {
        "id": "K8AjdOLQ7L5L"
      },
      "execution_count": null,
      "outputs": []
    },
    {
      "cell_type": "markdown",
      "source": [
        "3# **An ugly number is a positive integer whose prime factors are limited to 2, 3, and 5.**Given an integer n, return true if n is an ugly number.#leetcode\n"
      ],
      "metadata": {
        "id": "l-B5tua1DNWb"
      }
    },
    {
      "cell_type": "code",
      "source": [
        "class Solution:\n",
        "    def isUgly(self, n: int) -> bool:\n",
        "        if n <= 0:\n",
        "            return False\n",
        "        if n == 1:\n",
        "            return True\n",
        "\n",
        "        for factor in [2, 3, 5]:\n",
        "            while n % factor == 0:\n",
        "                n //= factor\n",
        "\n",
        "        return n == 1"
      ],
      "metadata": {
        "id": "QinnIGhrDUqn"
      },
      "execution_count": null,
      "outputs": []
    },
    {
      "cell_type": "markdown",
      "source": [
        "4# An ugly number is a positive integer whose prime factors are limited to 2, 3, and 5.\n",
        "\n",
        "Given an integer n, return true if n is an ugly number.#leetcode"
      ],
      "metadata": {
        "id": "dDRJ9ToGsYp-"
      }
    },
    {
      "cell_type": "code",
      "source": [
        "class Solution:\n",
        "    def isUgly(self, n: int) -> bool:\n",
        "        if n <= 0:\n",
        "            return False\n",
        "        if n == 1:\n",
        "            return True\n",
        "\n",
        "        for factor in [2, 3, 5]:\n",
        "            while n % factor == 0:\n",
        "                n //= factor\n",
        "\n",
        "        return n == 1"
      ],
      "metadata": {
        "id": "PiLTk3uDsRfG"
      },
      "execution_count": null,
      "outputs": []
    },
    {
      "cell_type": "markdown",
      "source": [
        "5#Given two positive integers a and b, return the number of common factors of a and b.\n",
        "\n",
        "An integer x is a common factor of a and b if x divides both a and b.#leetcode"
      ],
      "metadata": {
        "id": "ZnrTcZP4sxbY"
      }
    },
    {
      "cell_type": "code",
      "source": [
        "import math\n",
        "class Solution:\n",
        "  def commonFactors(self, a:int, b:int) ->int:\n",
        "    #step 1: Find the GCD of a and b\n",
        "    gcd = math.gcd(a,b)\n",
        "\n",
        "    #step 2: Find the number of factors of the the GCD\n",
        "    count = 0\n",
        "    for i in range (1, gcd+1):\n",
        "      if gcd %i==0:\n",
        "        count = count + 1\n",
        "\n",
        "        return 0\n",
        "\n"
      ],
      "metadata": {
        "id": "mqWvVqCas6PU"
      },
      "execution_count": 1,
      "outputs": []
    }
  ]
}